{
 "cells": [
  {
   "cell_type": "code",
   "execution_count": 46,
   "id": "97c80041",
   "metadata": {},
   "outputs": [
    {
     "name": "stdout",
     "output_type": "stream",
     "text": [
      "Collecting chromedriver_binary\n",
      "  Using cached chromedriver_binary-128.0.6583.0.0-py3-none-any.whl\n",
      "Installing collected packages: chromedriver_binary\n",
      "Successfully installed chromedriver_binary-128.0.6583.0.0\n"
     ]
    }
   ],
   "source": [
    "!pip install chromedriver_binary"
   ]
  },
  {
   "cell_type": "code",
   "execution_count": 49,
   "id": "5f8d73ef",
   "metadata": {},
   "outputs": [],
   "source": [
    "import time\n",
    "import requests\n",
    "import pandas as pd\n",
    "from tqdm import tqdm\n",
    "\n",
    "import chromedriver_binary\n",
    "from bs4 import BeautifulSoup\n",
    "from selenium import webdriver\n",
    "\n",
    "browser = webdriver.Chrome()\n",
    "\n",
    "browser.get('https://stockmages.netlify.app')"
   ]
  },
  {
   "cell_type": "markdown",
   "id": "f227bb1b",
   "metadata": {},
   "source": [
    "### 1. Srolling to reach the bottom"
   ]
  },
  {
   "cell_type": "code",
   "execution_count": 50,
   "id": "385bd96b",
   "metadata": {},
   "outputs": [
    {
     "name": "stderr",
     "output_type": "stream",
     "text": [
      "100%|██████████| 5000/5000 [09:51<00:00,  8.45it/s]\n"
     ]
    }
   ],
   "source": [
    "for i in tqdm(range(0,5000000,1000)):\n",
    "    \n",
    "    browser.execute_script(\"window.scrollTo(0,\"  + str(i) + \")\")\n",
    "    time.sleep(.1)"
   ]
  },
  {
   "cell_type": "markdown",
   "id": "4f3ec0c0",
   "metadata": {},
   "source": [
    "### 2. Scraping the Page Course"
   ]
  },
  {
   "cell_type": "code",
   "execution_count": 51,
   "id": "a831392b",
   "metadata": {},
   "outputs": [],
   "source": [
    "soup = BeautifulSoup(browser.page_source, 'html.parser')"
   ]
  },
  {
   "cell_type": "markdown",
   "id": "260f56f8",
   "metadata": {},
   "source": [
    "### 3. Checking number of images that has to be scraped"
   ]
  },
  {
   "cell_type": "code",
   "execution_count": 52,
   "id": "b38591dc",
   "metadata": {},
   "outputs": [
    {
     "data": {
      "text/plain": [
       "9104"
      ]
     },
     "execution_count": 52,
     "metadata": {},
     "output_type": "execute_result"
    }
   ],
   "source": [
    "len(soup.find_all('div', class_ = 'container'))"
   ]
  },
  {
   "cell_type": "markdown",
   "id": "e4b68b1c",
   "metadata": {},
   "source": [
    "### 4. Scraping the Image Details"
   ]
  },
  {
   "cell_type": "code",
   "execution_count": 53,
   "id": "6956e803",
   "metadata": {},
   "outputs": [
    {
     "name": "stderr",
     "output_type": "stream",
     "text": [
      "100%|██████████| 9104/9104 [00:00<00:00, 11049.20it/s]\n"
     ]
    }
   ],
   "source": [
    "data = []\n",
    "\n",
    "for sp in tqdm(soup.find_all('div', class_ = 'container')):\n",
    "\n",
    "    img_link = sp.find('img').get('src')\n",
    "    tags     = sp.find('span', class_ = 'tag-color').text[7:].strip()\n",
    "    likes    = int(sp.find('div', class_ = 'likes-comments').find_all('span')[0].text.strip()[:-6])\n",
    "    comments = int(sp.find('div', class_ = 'likes-comments').find_all('span')[1].text.strip()[:-9])\n",
    "    \n",
    "    data.append([img_link, tags, likes, comments])"
   ]
  },
  {
   "cell_type": "markdown",
   "id": "2c980325",
   "metadata": {},
   "source": [
    "### 5. Saving data in a DataFrame"
   ]
  },
  {
   "cell_type": "code",
   "execution_count": 54,
   "id": "87b6e6e9",
   "metadata": {},
   "outputs": [
    {
     "data": {
      "text/html": [
       "<div>\n",
       "<style scoped>\n",
       "    .dataframe tbody tr th:only-of-type {\n",
       "        vertical-align: middle;\n",
       "    }\n",
       "\n",
       "    .dataframe tbody tr th {\n",
       "        vertical-align: top;\n",
       "    }\n",
       "\n",
       "    .dataframe thead th {\n",
       "        text-align: right;\n",
       "    }\n",
       "</style>\n",
       "<table border=\"1\" class=\"dataframe\">\n",
       "  <thead>\n",
       "    <tr style=\"text-align: right;\">\n",
       "      <th></th>\n",
       "      <th>img_link</th>\n",
       "      <th>tags</th>\n",
       "      <th>likes</th>\n",
       "      <th>comments</th>\n",
       "    </tr>\n",
       "  </thead>\n",
       "  <tbody>\n",
       "    <tr>\n",
       "      <th>0</th>\n",
       "      <td>https://cdn.pixabay.com/photo/2022/03/06/05/30...</td>\n",
       "      <td>Clouds, Sky, Atmosphere, Blue Sky</td>\n",
       "      <td>196</td>\n",
       "      <td>55</td>\n",
       "    </tr>\n",
       "    <tr>\n",
       "      <th>1</th>\n",
       "      <td>https://cdn.pixabay.com/photo/2022/04/07/11/45...</td>\n",
       "      <td>Bird, Ornithology, Hummingbird</td>\n",
       "      <td>76</td>\n",
       "      <td>20</td>\n",
       "    </tr>\n",
       "    <tr>\n",
       "      <th>2</th>\n",
       "      <td>https://cdn.pixabay.com/photo/2022/02/28/15/28...</td>\n",
       "      <td>Sea, Rainbow, Rainfall, Subtropical</td>\n",
       "      <td>282</td>\n",
       "      <td>106</td>\n",
       "    </tr>\n",
       "    <tr>\n",
       "      <th>3</th>\n",
       "      <td>https://cdn.pixabay.com/photo/2022/04/04/02/52...</td>\n",
       "      <td>Cherry Blossoms, Road, Japan, Sakura</td>\n",
       "      <td>42</td>\n",
       "      <td>11</td>\n",
       "    </tr>\n",
       "    <tr>\n",
       "      <th>4</th>\n",
       "      <td>https://cdn.pixabay.com/photo/2022/04/09/18/06...</td>\n",
       "      <td>Cape Marguerite, Flower, Plant</td>\n",
       "      <td>39</td>\n",
       "      <td>15</td>\n",
       "    </tr>\n",
       "  </tbody>\n",
       "</table>\n",
       "</div>"
      ],
      "text/plain": [
       "                                            img_link  \\\n",
       "0  https://cdn.pixabay.com/photo/2022/03/06/05/30...   \n",
       "1  https://cdn.pixabay.com/photo/2022/04/07/11/45...   \n",
       "2  https://cdn.pixabay.com/photo/2022/02/28/15/28...   \n",
       "3  https://cdn.pixabay.com/photo/2022/04/04/02/52...   \n",
       "4  https://cdn.pixabay.com/photo/2022/04/09/18/06...   \n",
       "\n",
       "                                   tags  likes  comments  \n",
       "0     Clouds, Sky, Atmosphere, Blue Sky    196        55  \n",
       "1        Bird, Ornithology, Hummingbird     76        20  \n",
       "2   Sea, Rainbow, Rainfall, Subtropical    282       106  \n",
       "3  Cherry Blossoms, Road, Japan, Sakura     42        11  \n",
       "4        Cape Marguerite, Flower, Plant     39        15  "
      ]
     },
     "execution_count": 54,
     "metadata": {},
     "output_type": "execute_result"
    }
   ],
   "source": [
    "df = pd.DataFrame(data, columns = ['img_link', 'tags', 'likes', 'comments'])\n",
    "\n",
    "df.head()"
   ]
  },
  {
   "cell_type": "markdown",
   "id": "06207d01",
   "metadata": {},
   "source": [
    "### 6. Checking Null Values"
   ]
  },
  {
   "cell_type": "code",
   "execution_count": 55,
   "id": "aad7af96",
   "metadata": {},
   "outputs": [
    {
     "data": {
      "text/plain": [
       "img_link    0\n",
       "tags        0\n",
       "likes       0\n",
       "comments    0\n",
       "dtype: int64"
      ]
     },
     "execution_count": 55,
     "metadata": {},
     "output_type": "execute_result"
    }
   ],
   "source": [
    "df.isnull().sum()"
   ]
  },
  {
   "cell_type": "markdown",
   "id": "c15a7155",
   "metadata": {},
   "source": [
    "### 7. Checking Duplicate Values"
   ]
  },
  {
   "cell_type": "code",
   "execution_count": 56,
   "id": "f282a90a",
   "metadata": {},
   "outputs": [
    {
     "data": {
      "text/plain": [
       "count                                                  9104\n",
       "unique                                                 9088\n",
       "top       https://cdn.pixabay.com/photo/2022/03/06/05/30...\n",
       "freq                                                      2\n",
       "Name: img_link, dtype: object"
      ]
     },
     "execution_count": 56,
     "metadata": {},
     "output_type": "execute_result"
    }
   ],
   "source": [
    "df['img_link'].describe()"
   ]
  },
  {
   "cell_type": "markdown",
   "id": "fe9c96ec",
   "metadata": {},
   "source": [
    "### 8. Removing Duplicate Values"
   ]
  },
  {
   "cell_type": "code",
   "execution_count": 57,
   "id": "55288e26",
   "metadata": {},
   "outputs": [],
   "source": [
    "df = df.drop_duplicates()"
   ]
  },
  {
   "cell_type": "markdown",
   "id": "6e657e54",
   "metadata": {},
   "source": [
    "### 9. Saving the DataFrame as CSV"
   ]
  },
  {
   "cell_type": "code",
   "execution_count": 58,
   "id": "e577b463",
   "metadata": {},
   "outputs": [],
   "source": [
    "df.to_csv('images.csv', index = False)"
   ]
  }
 ],
 "metadata": {
  "kernelspec": {
   "display_name": "Python 3 (ipykernel)",
   "language": "python",
   "name": "python3"
  },
  "language_info": {
   "codemirror_mode": {
    "name": "ipython",
    "version": 3
   },
   "file_extension": ".py",
   "mimetype": "text/x-python",
   "name": "python",
   "nbconvert_exporter": "python",
   "pygments_lexer": "ipython3",
   "version": "3.11.7"
  }
 },
 "nbformat": 4,
 "nbformat_minor": 5
}
